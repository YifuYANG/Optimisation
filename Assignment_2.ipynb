{
 "cells": [
  {
   "cell_type": "markdown",
   "id": "30135522",
   "metadata": {},
   "source": [
    "# Question 1\n",
    "Allow the i-item to have both a utility $u i$ and a weight $w i$ Kg. The hiker wishes to choose a subset with the most utility, such that the total weight of the selected goods is less than or equal to 15 kg.\n",
    "\n",
    "Considering a set of decision binary variables $𝑥_𝑖$ that receive value 1 if the $𝑖-th$ item is selected, and 0 if it is not selected, the resulting mathematical programming formulation is:\n",
    "$$Maximise\\ \\sum_{i\\in I}u_i.x_i$$\n",
    "$$s.t.\\ \\sum_{i\\in I}w_i.x_i \\le W$$\n",
    "$$x_i\\in\\{0,1\\}\\ \\ \\ \\forall i\\in I$$"
   ]
  },
  {
   "cell_type": "code",
   "execution_count": 52,
   "id": "a50fce06",
   "metadata": {},
   "outputs": [],
   "source": [
    "using JuMP\n",
    "import Xpress\n",
    "import GLPK\n",
    "import Test"
   ]
  },
  {
   "cell_type": "code",
   "execution_count": 58,
   "id": "3de73d9c",
   "metadata": {},
   "outputs": [
    {
     "data": {
      "text/plain": [
       "A JuMP Model\n",
       "Feasibility problem with:\n",
       "Variables: 0\n",
       "Model mode: AUTOMATIC\n",
       "CachingOptimizer state: EMPTY_OPTIMIZER\n",
       "Solver name: Xpress"
      ]
     },
     "execution_count": 58,
     "metadata": {},
     "output_type": "execute_result"
    }
   ],
   "source": [
    "model = Model(Xpress.Optimizer)  "
   ]
  },
  {
   "cell_type": "code",
   "execution_count": 59,
   "id": "27644d30",
   "metadata": {},
   "outputs": [
    {
     "data": {
      "text/plain": [
       "15"
      ]
     },
     "execution_count": 59,
     "metadata": {},
     "output_type": "execute_result"
    }
   ],
   "source": [
    "utility = [4, 2, 1, 7, 3, 6]\n",
    "weight = [5, 8, 8, 6, 1, 5]\n",
    "weight_capacity = 15"
   ]
  },
  {
   "cell_type": "code",
   "execution_count": 60,
   "id": "410c9ba1",
   "metadata": {},
   "outputs": [
    {
     "data": {
      "text/plain": [
       "6-element Vector{VariableRef}:\n",
       " x[1]\n",
       " x[2]\n",
       " x[3]\n",
       " x[4]\n",
       " x[5]\n",
       " x[6]"
      ]
     },
     "execution_count": 60,
     "metadata": {},
     "output_type": "execute_result"
    }
   ],
   "source": [
    "@variable(model, x[1:6], Bin)"
   ]
  },
  {
   "cell_type": "code",
   "execution_count": 63,
   "id": "2e41e36f",
   "metadata": {},
   "outputs": [
    {
     "data": {
      "text/latex": [
       "$$ x_{1} + x_{2} + x_{3} + x_{4} + x_{5} + x_{6} \\geq 3.0 $$"
      ],
      "text/plain": [
       "x[1] + x[2] + x[3] + x[4] + x[5] + x[6] ≥ 3.0"
      ]
     },
     "execution_count": 63,
     "metadata": {},
     "output_type": "execute_result"
    }
   ],
   "source": [
    "#Objective: maximize utility\n",
    "@objective(model, Max, utility' * x)\n",
    "#Constraint: can carry all\n",
    "@constraint(model, weight' * x <= weight_capacity)\n",
    "#at least 3 items\n",
    "@constraint(model, sum(x) >= 3)"
   ]
  },
  {
   "cell_type": "code",
   "execution_count": 62,
   "id": "03ec2209",
   "metadata": {},
   "outputs": [
    {
     "name": "stdout",
     "output_type": "stream",
     "text": [
      "The best utility the knapsack can hold is: 16.0\n",
      "Solution is:\n",
      "x[1] = 0.0, p[1]/w[1] = 0.8\n",
      "x[2] = 0.0, p[2]/w[2] = 0.25\n",
      "x[3] = 0.0, p[3]/w[3] = 0.125\n",
      "x[4] = 1.0, p[4]/w[4] = 1.1666666666666667\n",
      "x[5] = 1.0, p[5]/w[5] = 3.0\n",
      "x[6] = 1.0, p[6]/w[6] = 1.2\n"
     ]
    }
   ],
   "source": [
    "# Solve problem using MIP solver\n",
    "optimize!(model)\n",
    "println(\"The best utility the knapsack can hold is: \", objective_value(model))\n",
    "println(\"Solution is:\")\n",
    "\n",
    "for i in 1:6\n",
    "    print(\"x[$i] = \", value(x[i]))\n",
    "    println(\", p[$i]/w[$i] = \", utility[i] / weight[i])\n",
    "end"
   ]
  },
  {
   "cell_type": "markdown",
   "id": "187b23a3",
   "metadata": {},
   "source": [
    "# Question 2\n",
    "Consider the following binary integer program.\n",
    "\n",
    "$$ Maximise\\ 12x_1+x_2+10x_3+2x_4$$\n",
    "$$s.t.$$\n",
    "$$ 16x_1+2x_2+10x_3+8x_4 \\le 18 $$\n",
    "$$x_i\\ is\\ binary\\ for\\ j=1,...,4$$"
   ]
  },
  {
   "cell_type": "markdown",
   "id": "3ae4a34a",
   "metadata": {},
   "source": [
    "start by fixing the variable x_1.\n",
    "Fixing $x_1=0$\n",
    "$$ Maximise\\ x_2+10x_3+2x_4$$\n",
    "$$s.t.$$\n",
    "$$ 2x_2+10x_3+8x_4 \\le 18 $$\n",
    "$$0\\le x_i\\le 1\\ for\\ j=\\ \\ 2,...,4$$"
   ]
  },
  {
   "cell_type": "code",
   "execution_count": 11,
   "id": "0cd1b8ef",
   "metadata": {},
   "outputs": [
    {
     "data": {
      "text/plain": [
       "A JuMP Model\n",
       "Feasibility problem with:\n",
       "Variables: 0\n",
       "Model mode: AUTOMATIC\n",
       "CachingOptimizer state: EMPTY_OPTIMIZER\n",
       "Solver name: GLPK"
      ]
     },
     "execution_count": 11,
     "metadata": {},
     "output_type": "execute_result"
    }
   ],
   "source": [
    "model = Model(GLPK.Optimizer)  "
   ]
  },
  {
   "cell_type": "code",
   "execution_count": 12,
   "id": "429b6383",
   "metadata": {},
   "outputs": [
    {
     "data": {
      "text/latex": [
       "$$ x4 $$"
      ],
      "text/plain": [
       "x4"
      ]
     },
     "execution_count": 12,
     "metadata": {},
     "output_type": "execute_result"
    }
   ],
   "source": [
    "@variable(model, x1==0)\n",
    "@variable(model, 0 <= x2 <= 1)\n",
    "@variable(model, 0 <= x3 <= 1 )\n",
    "@variable(model, 0 <= x4 <= 1 )"
   ]
  },
  {
   "cell_type": "code",
   "execution_count": 13,
   "id": "a78d07a4",
   "metadata": {},
   "outputs": [],
   "source": [
    "#Constraints\n",
    "@constraint(model, 16x1+2x2+10x3+8x4 <= 18)\n",
    "# Objective Function:\n",
    "@objective(model, Max, 12x1+x2+10x3+2x4)\n",
    "optimize!(model)"
   ]
  },
  {
   "cell_type": "code",
   "execution_count": 14,
   "id": "6a99a2fb",
   "metadata": {},
   "outputs": [
    {
     "name": "stdout",
     "output_type": "stream",
     "text": [
      "x1-x4 value: 0.0, 1.0, 1.0, 0.75\n",
      "objective value: 12.5\n"
     ]
    }
   ],
   "source": [
    "if termination_status(model) == MOI.OPTIMAL\n",
    "    println(\"x1-x4 value: $(value(x1)), $(value(x2)), $(value(x3)), $(value(x4))\")\n",
    "    println(\"objective value: \",objective_value(model))\n",
    "elseif termination_status(model) == MOI.INFEASIBLE\n",
    "    println(\"the model is infeasible\")\n",
    "else\n",
    "    println(\"error!!\")\n",
    "end"
   ]
  },
  {
   "cell_type": "markdown",
   "id": "8a7deae7",
   "metadata": {},
   "source": [
    "Since this is a max problem, LP gave us a lower bound of 12.5 and this branche have non-integer values. This branch needs to be explored further by fixing other variables. Let's fix x1 = 1."
   ]
  },
  {
   "cell_type": "markdown",
   "id": "bb7d6c7d",
   "metadata": {},
   "source": [
    "fixing the variable x_1.\n",
    "Fixing $x_1=1$\n",
    "$$ Maximise\\ 12+x_2+10x_3+2x_4$$\n",
    "$$s.t.$$\n",
    "$$ 2x_2+10x_3+8x_4 \\le 2 $$\n",
    "$$0\\le x_i\\le 1\\ for\\ j=\\ \\ 2,...,4$$"
   ]
  },
  {
   "cell_type": "code",
   "execution_count": 15,
   "id": "8bc2f48c",
   "metadata": {},
   "outputs": [
    {
     "data": {
      "text/plain": [
       "A JuMP Model\n",
       "Feasibility problem with:\n",
       "Variables: 0\n",
       "Model mode: AUTOMATIC\n",
       "CachingOptimizer state: EMPTY_OPTIMIZER\n",
       "Solver name: GLPK"
      ]
     },
     "execution_count": 15,
     "metadata": {},
     "output_type": "execute_result"
    }
   ],
   "source": [
    "model = Model(GLPK.Optimizer)  "
   ]
  },
  {
   "cell_type": "code",
   "execution_count": 16,
   "id": "3e325478",
   "metadata": {},
   "outputs": [
    {
     "data": {
      "text/latex": [
       "$$ x4 $$"
      ],
      "text/plain": [
       "x4"
      ]
     },
     "execution_count": 16,
     "metadata": {},
     "output_type": "execute_result"
    }
   ],
   "source": [
    "@variable(model, x1==1)\n",
    "@variable(model, 0 <= x2 <= 1)\n",
    "@variable(model, 0 <= x3 <= 1 )\n",
    "@variable(model, 0 <= x4 <= 1 )"
   ]
  },
  {
   "cell_type": "code",
   "execution_count": 17,
   "id": "38d37296",
   "metadata": {},
   "outputs": [],
   "source": [
    "#Constraints\n",
    "@constraint(model, 16x1+2x2+10x3+8x4 <= 18)\n",
    "# Objective Function:\n",
    "@objective(model, Max, 12x1+x2+10x3+2x4)\n",
    "optimize!(model)"
   ]
  },
  {
   "cell_type": "code",
   "execution_count": 18,
   "id": "a27f7ba2",
   "metadata": {},
   "outputs": [
    {
     "name": "stdout",
     "output_type": "stream",
     "text": [
      "x1-x4 value: 1.0, 0.0, 0.2, 0.0\n",
      "objective value: 14.0\n"
     ]
    }
   ],
   "source": [
    "if termination_status(model) == MOI.OPTIMAL\n",
    "    println(\"x1-x4 value: $(value(x1)), $(value(x2)), $(value(x3)), $(value(x4))\")\n",
    "    println(\"objective value: \",objective_value(model))\n",
    "elseif termination_status(model) == MOI.INFEASIBLE\n",
    "    println(\"the model is infeasible\")\n",
    "else\n",
    "    println(\"error!!\")\n",
    "end"
   ]
  },
  {
   "cell_type": "markdown",
   "id": "5ad7e8bb",
   "metadata": {},
   "source": [
    "Since this branche have non-integer values. This branch still needs to be explored further by fixing other variables. Let's fix x2 = 0."
   ]
  },
  {
   "cell_type": "markdown",
   "id": "07062012",
   "metadata": {},
   "source": [
    "Fixing $x_1=1,\\ x_2=0$\n",
    "$$ Maximise\\ 12+10x_3+2x_4$$\n",
    "$$s.t.$$\n",
    "$$ 10x_3+8x_4 \\le 2 $$\n",
    "$$0\\le x_i\\le 1\\ for\\ j=\\ \\ 3,4$$"
   ]
  },
  {
   "cell_type": "code",
   "execution_count": 19,
   "id": "aad42edf",
   "metadata": {},
   "outputs": [
    {
     "data": {
      "text/plain": [
       "A JuMP Model\n",
       "Feasibility problem with:\n",
       "Variables: 0\n",
       "Model mode: AUTOMATIC\n",
       "CachingOptimizer state: EMPTY_OPTIMIZER\n",
       "Solver name: GLPK"
      ]
     },
     "execution_count": 19,
     "metadata": {},
     "output_type": "execute_result"
    }
   ],
   "source": [
    "model = Model(GLPK.Optimizer) "
   ]
  },
  {
   "cell_type": "code",
   "execution_count": 20,
   "id": "1cd5f341",
   "metadata": {},
   "outputs": [
    {
     "data": {
      "text/latex": [
       "$$ x4 $$"
      ],
      "text/plain": [
       "x4"
      ]
     },
     "execution_count": 20,
     "metadata": {},
     "output_type": "execute_result"
    }
   ],
   "source": [
    "@variable(model, x1==1)\n",
    "@variable(model, x2==0)\n",
    "@variable(model, 0 <= x3 <= 1 )\n",
    "@variable(model, 0 <= x4 <= 1 )"
   ]
  },
  {
   "cell_type": "code",
   "execution_count": 21,
   "id": "ad19b99c",
   "metadata": {},
   "outputs": [],
   "source": [
    "#Constraints\n",
    "@constraint(model, 16x1+2x2+10x3+8x4 <= 18)\n",
    "# Objective Function:\n",
    "@objective(model, Max, 12x1+x2+10x3+2x4)\n",
    "optimize!(model)"
   ]
  },
  {
   "cell_type": "code",
   "execution_count": 22,
   "id": "74d0fe74",
   "metadata": {},
   "outputs": [
    {
     "name": "stdout",
     "output_type": "stream",
     "text": [
      "x1-x4 value: 1.0, 0.0, 0.2, 0.0\n",
      "objective value: 14.0\n"
     ]
    }
   ],
   "source": [
    "if termination_status(model) == MOI.OPTIMAL\n",
    "    println(\"x1-x4 value: $(value(x1)), $(value(x2)), $(value(x3)), $(value(x4))\")\n",
    "    println(\"objective value: \",objective_value(model))\n",
    "elseif termination_status(model) == MOI.INFEASIBLE\n",
    "    println(\"the model is infeasible\")\n",
    "else\n",
    "    println(\"error!!\")\n",
    "end"
   ]
  },
  {
   "cell_type": "markdown",
   "id": "70d2d0fa",
   "metadata": {},
   "source": [
    "Since this branche have non-integer values. Let's fix x2 = 1."
   ]
  },
  {
   "cell_type": "markdown",
   "id": "588e5eec",
   "metadata": {},
   "source": [
    "fixing the variable x_1.\n",
    "Fixing $x_1=1$\n",
    "$$ Maximise\\ 12+1+10x_3+2x_4$$\n",
    "$$s.t.$$\n",
    "$$ 10x_3+8x_4 \\le 0 $$\n",
    "$$0\\le x_i\\le 1\\ for\\ j=\\ \\ 3,4$$"
   ]
  },
  {
   "cell_type": "code",
   "execution_count": 23,
   "id": "1313f705",
   "metadata": {},
   "outputs": [
    {
     "data": {
      "text/plain": [
       "A JuMP Model\n",
       "Feasibility problem with:\n",
       "Variables: 0\n",
       "Model mode: AUTOMATIC\n",
       "CachingOptimizer state: EMPTY_OPTIMIZER\n",
       "Solver name: GLPK"
      ]
     },
     "execution_count": 23,
     "metadata": {},
     "output_type": "execute_result"
    }
   ],
   "source": [
    "model = Model(GLPK.Optimizer) "
   ]
  },
  {
   "cell_type": "code",
   "execution_count": 24,
   "id": "bb2e0154",
   "metadata": {},
   "outputs": [
    {
     "data": {
      "text/latex": [
       "$$ x4 $$"
      ],
      "text/plain": [
       "x4"
      ]
     },
     "execution_count": 24,
     "metadata": {},
     "output_type": "execute_result"
    }
   ],
   "source": [
    "@variable(model, x1==1)\n",
    "@variable(model, x2==1)\n",
    "@variable(model, 0 <= x3 <= 1 )\n",
    "@variable(model, 0 <= x4 <= 1 )"
   ]
  },
  {
   "cell_type": "code",
   "execution_count": 25,
   "id": "f8ab6788",
   "metadata": {},
   "outputs": [],
   "source": [
    "#Constraints\n",
    "@constraint(model, 16x1+2x2+10x3+8x4 <= 18)\n",
    "# Objective Function:\n",
    "@objective(model, Max, 12x1+x2+10x3+2x4)\n",
    "optimize!(model)"
   ]
  },
  {
   "cell_type": "code",
   "execution_count": 26,
   "id": "4bd94392",
   "metadata": {},
   "outputs": [
    {
     "name": "stdout",
     "output_type": "stream",
     "text": [
      "x1-x4 value: 1.0, 1.0, 0.0, 0.0\n",
      "objective value: 13.0\n"
     ]
    }
   ],
   "source": [
    "if termination_status(model) == MOI.OPTIMAL\n",
    "    println(\"x1-x4 value: $(value(x1)), $(value(x2)), $(value(x3)), $(value(x4))\")\n",
    "    println(\"objective value: \",objective_value(model))\n",
    "elseif termination_status(model) == MOI.INFEASIBLE\n",
    "    println(\"the model is infeasible\")\n",
    "else\n",
    "    println(\"error!!\")\n",
    "end"
   ]
  },
  {
   "cell_type": "markdown",
   "id": "4609aee7",
   "metadata": {},
   "source": [
    "This branch gave us an integer solution of 13.0. Thus, we can fathom this branch and we don't need to explore this further. \n",
    "All other open branches have non-integer values, so even they gives better solution we can not use it.\n",
    "Thus, we conclude that the optimal objective value is 13.0 and the optimal solution is x1=x2=1 and x3=x4=0."
   ]
  },
  {
   "cell_type": "markdown",
   "id": "b464ba72",
   "metadata": {},
   "source": [
    "# Question 3\n",
    "subject to:\n",
    "$$Minimise\\ \\ Z=\\sum_{u=1}^{n}x_u$$\n",
    "$$x_u+x_v\\ge 1 \\ for \\ all \\ \\ \\{u,v\\}\\in E $$\n",
    "$$x_u\\in\\{0,1\\} \\ \\ for \\ all\\ \\ u\\in V$$"
   ]
  },
  {
   "cell_type": "code",
   "execution_count": 127,
   "id": "eb49b8e5",
   "metadata": {},
   "outputs": [],
   "source": [
    "using JuMP\n",
    "import GLPK"
   ]
  },
  {
   "cell_type": "code",
   "execution_count": 128,
   "id": "880d4236",
   "metadata": {},
   "outputs": [
    {
     "data": {
      "text/plain": [
       "A JuMP Model\n",
       "Feasibility problem with:\n",
       "Variables: 0\n",
       "Model mode: AUTOMATIC\n",
       "CachingOptimizer state: EMPTY_OPTIMIZER\n",
       "Solver name: GLPK"
      ]
     },
     "execution_count": 128,
     "metadata": {},
     "output_type": "execute_result"
    }
   ],
   "source": [
    "model = Model(GLPK.Optimizer)  "
   ]
  },
  {
   "cell_type": "code",
   "execution_count": 129,
   "id": "83d8ef34",
   "metadata": {},
   "outputs": [
    {
     "data": {
      "text/plain": [
       "7-element Vector{AffExpr}:\n",
       " vertice[1] + vertice[2]\n",
       " vertice[1] + vertice[3]\n",
       " vertice[2] + vertice[3]\n",
       " vertice[3] + vertice[4]\n",
       " vertice[4] + vertice[5]\n",
       " vertice[4] + vertice[6]\n",
       " vertice[5] + vertice[6]"
      ]
     },
     "execution_count": 129,
     "metadata": {},
     "output_type": "execute_result"
    }
   ],
   "source": [
    "#the binary variables: 0 = vertices are not selected, 1 = vertices are selected in S1\n",
    "#connect vertices as the image in the assignment q3\n",
    "@variable(model, vertice[1:6], Bin)\n",
    "\n",
    "edges = [vertice[1] + vertice[2], vertice[1] + vertice[3], vertice[2] + vertice[3], vertice[3] + vertice[4], vertice[4] + vertice[5],vertice[4] + vertice[6],vertice[5] + vertice[6]]"
   ]
  },
  {
   "cell_type": "code",
   "execution_count": 130,
   "id": "b9a1e642",
   "metadata": {},
   "outputs": [],
   "source": [
    "#sum of the vertices should greater or equals 1\n",
    "for i in 1:7\n",
    "    @constraint(model, edges[i] >=1)\n",
    "end"
   ]
  },
  {
   "cell_type": "code",
   "execution_count": 131,
   "id": "4d756b45",
   "metadata": {},
   "outputs": [
    {
     "name": "stdout",
     "output_type": "stream",
     "text": [
      "number of vertices will be selected 4.0\n",
      "vertice[1] = 1.0\n",
      "vertice[2] = 0.0\n",
      "vertice[3] = 1.0\n",
      "vertice[4] = 1.0\n",
      "vertice[5] = 1.0\n",
      "vertice[6] = 0.0\n"
     ]
    }
   ],
   "source": [
    "#Objective minimise the amount of vertices which connect to all the edges\n",
    "@objective(model, Min, sum(vertice[i] for i=1:6))\n",
    "optimize!(model)\n",
    "println(\"number of vertices will be selected \", objective_value(model))\n",
    "for i in 1:6\n",
    "    println(\"vertice[$i] = \", value(vertice[i]))\n",
    "end"
   ]
  },
  {
   "cell_type": "markdown",
   "id": "88db8031",
   "metadata": {},
   "source": [
    "Consider the linear programming relaxation of ILP formulation "
   ]
  },
  {
   "cell_type": "code",
   "execution_count": 132,
   "id": "58c5de1e",
   "metadata": {},
   "outputs": [
    {
     "data": {
      "text/plain": [
       "A JuMP Model\n",
       "Feasibility problem with:\n",
       "Variables: 0\n",
       "Model mode: AUTOMATIC\n",
       "CachingOptimizer state: EMPTY_OPTIMIZER\n",
       "Solver name: GLPK"
      ]
     },
     "execution_count": 132,
     "metadata": {},
     "output_type": "execute_result"
    }
   ],
   "source": [
    "model = Model(GLPK.Optimizer)  "
   ]
  },
  {
   "cell_type": "code",
   "execution_count": 133,
   "id": "85acadce",
   "metadata": {},
   "outputs": [
    {
     "data": {
      "text/plain": [
       "7-element Vector{AffExpr}:\n",
       " vertice[1] + vertice[2]\n",
       " vertice[1] + vertice[3]\n",
       " vertice[2] + vertice[3]\n",
       " vertice[3] + vertice[4]\n",
       " vertice[4] + vertice[5]\n",
       " vertice[4] + vertice[6]\n",
       " vertice[5] + vertice[6]"
      ]
     },
     "execution_count": 133,
     "metadata": {},
     "output_type": "execute_result"
    }
   ],
   "source": [
    "#the linear progrmming reaxation of ILP means variables can be non-integer\n",
    "#connect vertices as the image in the assignment q3\n",
    "@variable(model, 0 <= vertice[1:6] <=1)\n",
    "edges = [vertice[1] + vertice[2], vertice[1] + vertice[3], vertice[2] + vertice[3], vertice[3] + vertice[4], vertice[4] + vertice[5],vertice[4] + vertice[6],vertice[5] + vertice[6]]"
   ]
  },
  {
   "cell_type": "code",
   "execution_count": 134,
   "id": "6ee32fbb",
   "metadata": {},
   "outputs": [],
   "source": [
    "#sum of the vertices should greater or equals 1\n",
    "for i in 1:7\n",
    "    @constraint(model, edges[i] >=1)\n",
    "end"
   ]
  },
  {
   "cell_type": "code",
   "execution_count": 135,
   "id": "50cfd323",
   "metadata": {},
   "outputs": [
    {
     "name": "stdout",
     "output_type": "stream",
     "text": [
      "number of vertices will be selected 3.0\n",
      "vertice[1] = 0.5\n",
      "vertice[2] = 0.5\n",
      "vertice[3] = 0.5\n",
      "vertice[4] = 0.5\n",
      "vertice[5] = 0.5\n",
      "vertice[6] = 0.5\n"
     ]
    }
   ],
   "source": [
    "#Objective minimise the amount of vertices which connect to all the edges\n",
    "@objective(model, Min, sum(vertice[i] for i=1:6))\n",
    "optimize!(model)\n",
    "println(\"number of vertices will be selected \", objective_value(model))\n",
    "for i in 1:6\n",
    "    println(\"vertice[$i] = \", value(vertice[i]))\n",
    "end"
   ]
  },
  {
   "cell_type": "markdown",
   "id": "1eaab0de",
   "metadata": {},
   "source": [
    "If S3 is set of vertices for which the corresponding variable in S2,we can then round: \n",
    "$$x_1 = 1 \\ \\ since \\ \\ vertice[1] = 0.5$$\n",
    "$$x_2 = 1 \\ \\ since \\ \\ vertice[2] = 0.5$$\n",
    "$$x_3 = 1 \\ \\ since \\ \\ vertice[3] = 0.5$$\n",
    "$$x_4 = 1 \\ \\ since \\ \\ vertice[4] = 0.5$$\n",
    "$$x_5 = 1 \\ \\ since \\ \\ vertice[5] = 0.5$$\n",
    "$$x_6 = 1 \\ \\ since \\ \\ vertice[6] = 0.5$$\n",
    "As the result we can discover that the objective value above is 6 which means that all the vertices are selected, and it is almost the double size of the optimal sloution we had before. So we can come out with conclusion that this solution will not be worked."
   ]
  }
 ],
 "metadata": {
  "kernelspec": {
   "display_name": "Julia 1.6.2",
   "language": "julia",
   "name": "julia-1.6"
  },
  "language_info": {
   "file_extension": ".jl",
   "mimetype": "application/julia",
   "name": "julia",
   "version": "1.6.2"
  }
 },
 "nbformat": 4,
 "nbformat_minor": 5
}
